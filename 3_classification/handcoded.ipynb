{
 "cells": [
  {
   "cell_type": "code",
   "execution_count": 9,
   "id": "95434595-d813-4a00-9dd0-2ab0d42d36f0",
   "metadata": {
    "tags": []
   },
   "outputs": [],
   "source": [
    "import pandas as pd\n",
    "import numpy as np\n",
    "import simpledorff\n",
    "from collections import Counter\n",
    "import os"
   ]
  },
  {
   "cell_type": "markdown",
   "id": "802f0e56-c95b-4da2-aeed-5c93fc7f5df2",
   "metadata": {},
   "source": [
    "# Part 1: Check Agreements in raw coding"
   ]
  },
  {
   "cell_type": "code",
   "execution_count": 1,
   "id": "0294e56a-1c74-41f6-bf4b-a1f914170b82",
   "metadata": {
    "tags": []
   },
   "outputs": [],
   "source": [
    "# handcoded data\n",
    "outpath = '../../data/handcoded'\n",
    "filename1 = f'{outpath}/round1_coding_062223.csv'\n",
    "filename2 = f'{outpath}/round2_coding_070123.csv'\n",
    "filename3 = f'{outpath}/round3_coding_071023.csv'\n",
    "\n",
    "filenames = [filename1, filename2, filename3]\n",
    "\n",
    "settled_disagreement_file = f'{outpath}/settled_disagreements.txt'"
   ]
  },
  {
   "cell_type": "code",
   "execution_count": 2,
   "id": "108f14bd-1343-4cd9-8995-4e5fdfd1b88d",
   "metadata": {
    "tags": []
   },
   "outputs": [],
   "source": [
    "def clean_raw(df):\n",
    "    # set coder as index\n",
    "\n",
    "    df.index = [coders[name] for name in df['RecipientLastName']]\n",
    "    \n",
    "        # drop columns we don't need\n",
    "    skip = ['StartDate',\n",
    "                'EndDate',\n",
    "                'Status',\n",
    "                'IPAddress',\n",
    "                'Progress',\n",
    "                'Duration (in seconds)',\n",
    "                'Finished',\n",
    "                'RecordedDate',\n",
    "                'ResponseId',\n",
    "                'RecipientLastName',\n",
    "                'RecipientFirstName',\n",
    "                'RecipientEmail',\n",
    "                'ExternalReference',\n",
    "                'LocationLatitude',\n",
    "                'LocationLongitude',\n",
    "                'DistributionChannel',\n",
    "                'UserLanguage',\n",
    "                'coder']\n",
    "\n",
    "    keep = [col for col in df.columns if col not in skip]\n",
    "\n",
    "    df = df[keep]\n",
    "    \n",
    "    # create sets of conversation_ids -- this will become the index\n",
    "    on_topic_cols = set()\n",
    "\n",
    "    for col in df.columns:\n",
    "        if col not in skip:\n",
    "            col_codes = col.split('_')\n",
    "\n",
    "            if len(col_codes)==1:\n",
    "                on_topic_cols.add(col)\n",
    "       \n",
    "    # create dictionary of pivoted data\n",
    "    pivot_data = dict()\n",
    "\n",
    "    for i, row in df.iterrows():\n",
    "\n",
    "        for cid in on_topic_cols:\n",
    "            pivot_data.setdefault(cid, dict())\n",
    "\n",
    "            pivot_data[cid][f'{i}_on_topic'] = row[cid]\n",
    "            pivot_data[cid][f'{i}_topic'] = row[f'{cid}_topic']\n",
    "            \n",
    "            try:\n",
    "                pivot_data[cid][f'{i}_english'] = row[f'{cid}_english']\n",
    "            except KeyError:\n",
    "                pass\n",
    "    \n",
    "    final = pd.DataFrame.from_dict(pivot_data, orient='index')\n",
    "    \n",
    "    return final"
   ]
  },
  {
   "cell_type": "code",
   "execution_count": 3,
   "id": "55eca064-9baf-4d8a-9c0f-d02c20c7a5f9",
   "metadata": {
    "tags": []
   },
   "outputs": [],
   "source": [
    "def load_data(filename):\n",
    "    df = pd.read_csv(filename)\n",
    "    \n",
    "    # cut extra header rows that qualtrics adds\n",
    "    df = df.loc[2:4]\n",
    "    \n",
    "    df = clean_raw(df)\n",
    "    \n",
    "    return df"
   ]
  },
  {
   "cell_type": "code",
   "execution_count": 4,
   "id": "ffafa3af-7d5d-42ee-b916-63c987c570f9",
   "metadata": {
    "tags": []
   },
   "outputs": [],
   "source": [
    "def clean_df(df):\n",
    "\n",
    "    # move post id into a column\n",
    "    df = df.reset_index(names='cid')\n",
    "    \n",
    "    keep = df.columns\n",
    "\n",
    "    # drop duplicates, keeping the last entry\n",
    "    df = df.drop_duplicates(subset='cid', keep='last')\n",
    "    df = df.reset_index()\n",
    "    print(f'{len(df)} total conversations coded')\n",
    "    \n",
    "    df = df.drop(np.where(df['Coder1_english']=='No')[0])\n",
    "    df = df.reset_index()\n",
    "    \n",
    "    df = df[keep]\n",
    "    \n",
    "    return df"
   ]
  },
  {
   "cell_type": "code",
   "execution_count": 5,
   "id": "09411ccd-e513-494a-9eb3-613163a6ca27",
   "metadata": {
    "tags": []
   },
   "outputs": [],
   "source": [
    "def get_krip(df, drop_ns=False):\n",
    "    \n",
    "    sub = df.melt(id_vars='cid', var_name='coder', value_name='code')\n",
    "    \n",
    "    if drop_ns:\n",
    "        # drop not sure values and calc again\n",
    "        sub = sub[sub['code']!='Not sure']\n",
    "\n",
    "    # calculate\n",
    "    krip = simpledorff.calculate_krippendorffs_alpha_for_df(sub,\n",
    "                                                            experiment_col='cid',\n",
    "                                                            annotator_col='coder',\n",
    "                                                            class_col='code')\n",
    "    \n",
    "    if drop_ns:\n",
    "        print(f'   Krippendorffs alpha (dropping not sure): {krip:.2%}')\n",
    "    else:\n",
    "        print(f'   Krippendorffs alpha: {krip:.2%}')"
   ]
  },
  {
   "cell_type": "code",
   "execution_count": 6,
   "id": "c9f76bef-7135-45a7-847a-2d2f9439f7ed",
   "metadata": {
    "tags": []
   },
   "outputs": [],
   "source": [
    "def get_agreement(df, drop_ns=False):\n",
    "    \n",
    "    agree = 0\n",
    "    not_sures = 0\n",
    "    \n",
    "    # count agreements\n",
    "    for row in df.itertuples():\n",
    "        if row[-2] == row[-1]:\n",
    "            agree += 1\n",
    "        elif row[-2]=='Not sure' or row[-1]=='Not sure':\n",
    "            not_sures +=1\n",
    "\n",
    "    if drop_ns:\n",
    "        denom = len(df) - not_sures\n",
    "    else:\n",
    "        denom = len(df)\n",
    "    \n",
    "    if drop_ns:\n",
    "        print(f'   Percent agreement (dropping not sure): {agree/denom:.2%}')\n",
    "    else:\n",
    "        print(f'   Percent agreement: {agree/denom:.2%}')"
   ]
  },
  {
   "cell_type": "code",
   "execution_count": 7,
   "id": "46d6ad6e-08f3-4a02-88fb-574faf31de80",
   "metadata": {
    "tags": []
   },
   "outputs": [],
   "source": [
    "def get_agreement_types(df):\n",
    "    codes = list()\n",
    "\n",
    "    # count agreements\n",
    "    for row in sub.itertuples():\n",
    "        code1 = row[-2]\n",
    "        code2 = row[-1]\n",
    "\n",
    "        try:\n",
    "            code = '_'.join(sorted({code1, code2}))\n",
    "            codes.append(code)\n",
    "        except TypeError:\n",
    "            pass\n",
    "\n",
    "    # report agreements\n",
    "    counts = Counter(codes)\n",
    "\n",
    "    print('Agreements:')\n",
    "    for item in ['Yes', 'No', 'Not sure']:\n",
    "        count = counts[item]\n",
    "        print(f'   {item}:\\t{count} ({count/len(codes):.2%})')\n",
    "\n",
    "    print('Disagreements:')\n",
    "    for item in ['No_Not sure', 'Not sure_Yes', 'No_Yes']:\n",
    "        count = counts[item]\n",
    "        print(f'   {item}:\\t{count} ({count/len(codes):.2%})')\n",
    "        "
   ]
  },
  {
   "cell_type": "code",
   "execution_count": 10,
   "id": "454c2a2f-dc2e-4348-94cc-e1d8b64a1706",
   "metadata": {
    "tags": []
   },
   "outputs": [
    {
     "name": "stdout",
     "output_type": "stream",
     "text": [
      "538 total conversations coded\n"
     ]
    }
   ],
   "source": [
    "# load initial coding waves\n",
    "dfs = list()\n",
    "\n",
    "# load all coding files\n",
    "for i, filename in enumerate(filenames):\n",
    "    df = load_data(filename)\n",
    "    df['round'] = i + 1\n",
    "    dfs.append(df)\n",
    "    \n",
    "# concatinate into single dataframe\n",
    "df = pd.concat(dfs)\n",
    "\n",
    "df = clean_df(df)"
   ]
  },
  {
   "cell_type": "code",
   "execution_count": 12,
   "id": "554b19d6-d8a7-45bb-b3db-2b264dcfd52f",
   "metadata": {
    "tags": []
   },
   "outputs": [
    {
     "name": "stdout",
     "output_type": "stream",
     "text": [
      "For all data:\n",
      "   Krippendorffs alpha: 69.22%\n",
      "   Percent agreement: 83.20%\n",
      "\n",
      "   Krippendorffs alpha (dropping not sure): 78.81%\n",
      "   Percent agreement (dropping not sure): 90.34%\n",
      "\n",
      "For round 1:\n",
      "   Krippendorffs alpha: 82.10%\n",
      "   Percent agreement: 88.00%\n",
      "\n",
      "   Krippendorffs alpha (dropping not sure): 100.00%\n",
      "   Percent agreement (dropping not sure): 97.78%\n",
      "\n",
      "For round 2:\n",
      "   Krippendorffs alpha: 85.99%\n",
      "   Percent agreement: 91.94%\n",
      "\n",
      "   Krippendorffs alpha (dropping not sure): 100.00%\n",
      "   Percent agreement (dropping not sure): 99.49%\n",
      "\n",
      "For round 3:\n",
      "   Krippendorffs alpha: 51.46%\n",
      "   Percent agreement: 74.69%\n",
      "\n",
      "   Krippendorffs alpha (dropping not sure): 56.07%\n",
      "   Percent agreement (dropping not sure): 80.97%\n",
      "\n"
     ]
    }
   ],
   "source": [
    "# get agreements for inital waves\n",
    "for val in range(4):\n",
    "    sub = df[df['round']==val][['cid','Coder1_on_topic', 'Coder2_on_topic']]\n",
    "    \n",
    "    if len(sub)==0:\n",
    "        sub=df[['cid','Coder1_on_topic', 'Coder2_on_topic']]\n",
    "        print('For all data:')\n",
    "    else:\n",
    "        print(f'For round {val}:')\n",
    "        \n",
    "    get_krip(sub, drop_ns=False)\n",
    "    get_agreement(sub, drop_ns=False)\n",
    "    print()\n",
    "    get_krip(sub, drop_ns=True)\n",
    "    get_agreement(sub, drop_ns=True)\n",
    "    print()"
   ]
  },
  {
   "cell_type": "code",
   "execution_count": 13,
   "id": "4705cd49-bccf-42c7-b029-12fffcc1a48b",
   "metadata": {
    "tags": []
   },
   "outputs": [
    {
     "name": "stdout",
     "output_type": "stream",
     "text": [
      "Agreements:\n",
      "   Yes:\t52 (21.22%)\n",
      "   No:\t124 (50.61%)\n",
      "   Not sure:\t7 (2.86%)\n",
      "Disagreements:\n",
      "   No_Not sure:\t7 (2.86%)\n",
      "   Not sure_Yes:\t12 (4.90%)\n",
      "   No_Yes:\t43 (17.55%)\n"
     ]
    }
   ],
   "source": [
    "get_agreement_types(df[['cid','Coder1_on_topic', 'Coder2_on_topic']])"
   ]
  },
  {
   "cell_type": "markdown",
   "id": "b2807c12-2097-40a2-89c0-4d89e857a3d3",
   "metadata": {},
   "source": [
    "## Part 1a: For On-Topic only, calculate topic agreement"
   ]
  },
  {
   "cell_type": "code",
   "execution_count": 12,
   "id": "995bf93b-3f73-420f-9a20-a11f1996b4c1",
   "metadata": {
    "tags": []
   },
   "outputs": [],
   "source": [
    "on_topic = df[(df['Coder2_on_topic']=='Yes') & (df['Coder1_on_topic']=='Yes')][['cid','Coder1_topic', 'Coder2_topic']]"
   ]
  },
  {
   "cell_type": "code",
   "execution_count": 13,
   "id": "18a20ace-a127-4899-849f-46d8fb4f1e34",
   "metadata": {
    "tags": []
   },
   "outputs": [
    {
     "name": "stdout",
     "output_type": "stream",
     "text": [
      "   Krippendorffs alpha: 89.13%\n",
      "   Percent agreement: 92.59%\n",
      "\n",
      "   Krippendorffs alpha (dropping not sure): 91.11%\n",
      "   Percent agreement (dropping not sure): 93.98%\n"
     ]
    }
   ],
   "source": [
    "get_krip(on_topic, drop_ns=False)\n",
    "get_agreement(on_topic, drop_ns=False)\n",
    "print()\n",
    "get_krip(on_topic, drop_ns=True)\n",
    "get_agreement(on_topic, drop_ns=True)"
   ]
  },
  {
   "cell_type": "code",
   "execution_count": null,
   "id": "0e3febf4-1ab2-44f1-8e51-11801b288911",
   "metadata": {},
   "outputs": [],
   "source": []
  },
  {
   "cell_type": "markdown",
   "id": "bfb91d04-2f34-4b64-8fd5-7d0102900f55",
   "metadata": {},
   "source": [
    "# Part 2: Calculate final codes"
   ]
  },
  {
   "cell_type": "code",
   "execution_count": 14,
   "id": "cb3a8e89-5d7e-438d-bfea-29b59a92cadb",
   "metadata": {
    "tags": []
   },
   "outputs": [],
   "source": [
    "final_on_topic = list()\n",
    "final_topic = list()\n",
    "\n",
    "for i, row in df.iterrows():\n",
    "    \n",
    "    # Final code -- is this on topic?\n",
    "    if row['Coder2_on_topic'] == row['Coder1_on_topic']:\n",
    "        final_on_topic.append(row['Coder2_on_topic'])\n",
    "        \n",
    "    else:\n",
    "        final_on_topic.append(np.nan)\n",
    "        \n",
    "    # Final code -- what topic is this?\n",
    "    if row['Coder2_topic'] == row['Coder1_topic']:\n",
    "        final_topic.append(row['Coder2_topic'])\n",
    "        \n",
    "    else:\n",
    "        final_topic.append(np.nan)\n",
    "             \n",
    "df['final_on_topic'] = final_on_topic\n",
    "df['final_topic'] = final_topic"
   ]
  },
  {
   "cell_type": "code",
   "execution_count": 15,
   "id": "e6ddd741-7ffc-4b3d-a6c1-4d718e951084",
   "metadata": {
    "tags": []
   },
   "outputs": [
    {
     "name": "stdout",
     "output_type": "stream",
     "text": [
      "85 conversations have outstanding dissagreements as to whether they are on topic\n"
     ]
    }
   ],
   "source": [
    "# outstanding on topic disagreements\n",
    "dis = df[df['final_on_topic'].isna()]\n",
    "print(f'{len(dis)} conversations have outstanding dissagreements as to whether they are on topic')"
   ]
  },
  {
   "cell_type": "code",
   "execution_count": 16,
   "id": "0e508a31-f0e0-464f-8d7a-fce7693326d0",
   "metadata": {
    "tags": []
   },
   "outputs": [
    {
     "name": "stdout",
     "output_type": "stream",
     "text": [
      "10 conversations have outstanding dissagreements as _what_ topic they are on\n"
     ]
    }
   ],
   "source": [
    "# outstanding topic disagreements\n",
    "dis_topic = df[(df['final_on_topic']=='Yes') & (df['final_topic'].isna())]\n",
    "print(f'{len(dis_topic)} conversations have outstanding dissagreements as _what_ topic they are on')"
   ]
  },
  {
   "cell_type": "markdown",
   "id": "6536e4a8-d9fd-4567-8e5c-3b11238dc8c0",
   "metadata": {},
   "source": [
    "# Part 2: Override settled disagreements"
   ]
  },
  {
   "cell_type": "code",
   "execution_count": 19,
   "id": "747df3a4-a886-4ab6-9d48-9ae4230c3d2d",
   "metadata": {
    "tags": []
   },
   "outputs": [],
   "source": [
    "settled = pd.read_csv(settled_disagreement_file, sep='\\t')\n",
    "\n"
   ]
  },
  {
   "cell_type": "code",
   "execution_count": 18,
   "id": "f9680c5c-1dba-42cd-b7bb-ba61ead6ad5c",
   "metadata": {
    "tags": []
   },
   "outputs": [],
   "source": [
    "topic_dict = df[['cid', 'final_on_topic', 'final_topic']].set_index('cid').to_dict()\n",
    "\n",
    "for i, row in settled.iterrows():\n",
    "    cid = row['convo_id']\n",
    "    \n",
    "    topic_dict['final_on_topic'][cid] = row['final_on_topic']\n",
    "    topic_dict['final_topic'][cid] = row['final_is_topic']\n",
    "\n",
    "df['final_on_topic'] = df['cid'].apply(lambda x: topic_dict['final_on_topic'][x])\n",
    "df['final_topic'] = df['cid'].apply(lambda x: topic_dict['final_topic'][x])"
   ]
  },
  {
   "cell_type": "markdown",
   "id": "74cdc2e7-b130-434c-82c3-be012c563728",
   "metadata": {},
   "source": [
    "### Check on topic"
   ]
  },
  {
   "cell_type": "code",
   "execution_count": 19,
   "id": "dca189d0-f871-460d-a9b0-5a0d2b911cb4",
   "metadata": {
    "tags": []
   },
   "outputs": [
    {
     "name": "stdout",
     "output_type": "stream",
     "text": [
      "2 conversations have outstanding dissagreements as to whether they are on topic\n"
     ]
    }
   ],
   "source": [
    "# outstanding on topic disagreements\n",
    "dis = df[df['final_on_topic'].isna()]\n",
    "print(f'{len(dis)} conversations have outstanding dissagreements as to whether they are on topic')"
   ]
  },
  {
   "cell_type": "code",
   "execution_count": 20,
   "id": "0fc680d6-6a0e-4b4a-b9fe-b586614c990b",
   "metadata": {
    "tags": []
   },
   "outputs": [
    {
     "data": {
      "text/html": [
       "<div>\n",
       "<style scoped>\n",
       "    .dataframe tbody tr th:only-of-type {\n",
       "        vertical-align: middle;\n",
       "    }\n",
       "\n",
       "    .dataframe tbody tr th {\n",
       "        vertical-align: top;\n",
       "    }\n",
       "\n",
       "    .dataframe thead th {\n",
       "        text-align: right;\n",
       "    }\n",
       "</style>\n",
       "<table border=\"1\" class=\"dataframe\">\n",
       "  <thead>\n",
       "    <tr style=\"text-align: right;\">\n",
       "      <th></th>\n",
       "      <th>cid</th>\n",
       "      <th>Coder2_on_topic</th>\n",
       "      <th>Coder2_topic</th>\n",
       "      <th>Coder1_on_topic</th>\n",
       "      <th>Coder1_topic</th>\n",
       "      <th>round</th>\n",
       "      <th>Coder1_english</th>\n",
       "      <th>Coder2_english</th>\n",
       "      <th>final_on_topic</th>\n",
       "      <th>final_topic</th>\n",
       "    </tr>\n",
       "  </thead>\n",
       "  <tbody>\n",
       "    <tr>\n",
       "      <th>323</th>\n",
       "      <td>1479861672483467265</td>\n",
       "      <td>Yes</td>\n",
       "      <td>Russia/Ukraine war</td>\n",
       "      <td>Not sure</td>\n",
       "      <td>Not sure</td>\n",
       "      <td>3</td>\n",
       "      <td>Not sure</td>\n",
       "      <td>No</td>\n",
       "      <td>NaN</td>\n",
       "      <td>NaN</td>\n",
       "    </tr>\n",
       "    <tr>\n",
       "      <th>351</th>\n",
       "      <td>1576911629324734470</td>\n",
       "      <td>No</td>\n",
       "      <td>Not sure</td>\n",
       "      <td>Yes</td>\n",
       "      <td>Childcare/parenting</td>\n",
       "      <td>3</td>\n",
       "      <td>Yes</td>\n",
       "      <td>Not sure</td>\n",
       "      <td>NaN</td>\n",
       "      <td>NaN</td>\n",
       "    </tr>\n",
       "  </tbody>\n",
       "</table>\n",
       "</div>"
      ],
      "text/plain": [
       "                     cid Coder2_on_topic        Coder2_topic Coder1_on_topic  \\\n",
       "323  1479861672483467265             Yes  Russia/Ukraine war        Not sure   \n",
       "351  1576911629324734470              No            Not sure             Yes   \n",
       "\n",
       "            Coder1_topic  round Coder1_english Coder2_english final_on_topic  \\\n",
       "323             Not sure      3       Not sure             No            NaN   \n",
       "351  Childcare/parenting      3            Yes       Not sure            NaN   \n",
       "\n",
       "    final_topic  \n",
       "323         NaN  \n",
       "351         NaN  "
      ]
     },
     "execution_count": 20,
     "metadata": {},
     "output_type": "execute_result"
    }
   ],
   "source": [
    "dis"
   ]
  },
  {
   "cell_type": "code",
   "execution_count": 21,
   "id": "4ee207ef-42d6-479d-a966-4bec9e44146a",
   "metadata": {
    "tags": []
   },
   "outputs": [],
   "source": [
    "# overwrite final disagreements based on additional coding\n",
    "df.loc[310, 'final_on_topic'] = 'Yes'\n",
    "df.loc[310, 'final_topic'] = 'Russia/Ukraine war'\n",
    "\n",
    "df.loc[385, 'final_on_topic'] = 'Yes'\n",
    "df.loc[385, 'final_topic'] = 'Childcare/parenting'"
   ]
  },
  {
   "cell_type": "code",
   "execution_count": 22,
   "id": "88e653ee-3671-48cf-aa54-bb088b82a1d4",
   "metadata": {
    "tags": []
   },
   "outputs": [
    {
     "name": "stdout",
     "output_type": "stream",
     "text": [
      "2 conversations have outstanding dissagreements as to whether they are on topic\n"
     ]
    }
   ],
   "source": [
    "# outstanding on topic disagreements\n",
    "dis = df[df['final_on_topic'].isna()]\n",
    "print(f'{len(dis)} conversations have outstanding dissagreements as to whether they are on topic')"
   ]
  },
  {
   "cell_type": "code",
   "execution_count": null,
   "id": "49ba22bb-c561-468b-b163-fddf3d1ebf53",
   "metadata": {},
   "outputs": [],
   "source": []
  },
  {
   "cell_type": "code",
   "execution_count": null,
   "id": "197c25ec-4017-4154-abfa-10b351e75e76",
   "metadata": {},
   "outputs": [],
   "source": []
  },
  {
   "cell_type": "markdown",
   "id": "3aa9cd37-5687-44ab-ad7d-7cf1df63a910",
   "metadata": {},
   "source": [
    "### Check identified topic"
   ]
  },
  {
   "cell_type": "code",
   "execution_count": 23,
   "id": "6e74abaf-908d-4c2f-a68f-ecc77cf9df48",
   "metadata": {
    "tags": []
   },
   "outputs": [
    {
     "name": "stdout",
     "output_type": "stream",
     "text": [
      "4 conversations have outstanding dissagreements as _what_ topic they are on\n"
     ]
    }
   ],
   "source": [
    "# outstanding topic disagreements\n",
    "dis_topic = df[(df['final_on_topic']=='Yes') & (df['final_topic'].isna())]\n",
    "print(f'{len(dis_topic)} conversations have outstanding dissagreements as _what_ topic they are on')"
   ]
  },
  {
   "cell_type": "code",
   "execution_count": 24,
   "id": "52855dc7-a803-4ac2-88fe-24bbe49d924a",
   "metadata": {
    "tags": []
   },
   "outputs": [
    {
     "data": {
      "text/html": [
       "<div>\n",
       "<style scoped>\n",
       "    .dataframe tbody tr th:only-of-type {\n",
       "        vertical-align: middle;\n",
       "    }\n",
       "\n",
       "    .dataframe tbody tr th {\n",
       "        vertical-align: top;\n",
       "    }\n",
       "\n",
       "    .dataframe thead th {\n",
       "        text-align: right;\n",
       "    }\n",
       "</style>\n",
       "<table border=\"1\" class=\"dataframe\">\n",
       "  <thead>\n",
       "    <tr style=\"text-align: right;\">\n",
       "      <th></th>\n",
       "      <th>cid</th>\n",
       "      <th>Coder2_on_topic</th>\n",
       "      <th>Coder2_topic</th>\n",
       "      <th>Coder1_on_topic</th>\n",
       "      <th>Coder1_topic</th>\n",
       "      <th>round</th>\n",
       "      <th>Coder1_english</th>\n",
       "      <th>Coder2_english</th>\n",
       "      <th>final_on_topic</th>\n",
       "      <th>final_topic</th>\n",
       "    </tr>\n",
       "  </thead>\n",
       "  <tbody>\n",
       "    <tr>\n",
       "      <th>269</th>\n",
       "      <td>xvlf6r</td>\n",
       "      <td>Yes</td>\n",
       "      <td>Russia/Ukraine war,Childcare/parenting</td>\n",
       "      <td>Yes</td>\n",
       "      <td>Russia/Ukraine war</td>\n",
       "      <td>3</td>\n",
       "      <td>Yes</td>\n",
       "      <td>Yes</td>\n",
       "      <td>Yes</td>\n",
       "      <td>NaN</td>\n",
       "    </tr>\n",
       "    <tr>\n",
       "      <th>289</th>\n",
       "      <td>1584363437349797889</td>\n",
       "      <td>Yes</td>\n",
       "      <td>US midterm elections,Childcare/parenting</td>\n",
       "      <td>Yes</td>\n",
       "      <td>Childcare/parenting</td>\n",
       "      <td>3</td>\n",
       "      <td>Yes</td>\n",
       "      <td>Yes</td>\n",
       "      <td>Yes</td>\n",
       "      <td>NaN</td>\n",
       "    </tr>\n",
       "    <tr>\n",
       "      <th>299</th>\n",
       "      <td>1575543463218933765</td>\n",
       "      <td>Yes</td>\n",
       "      <td>US midterm elections,Childcare/parenting</td>\n",
       "      <td>Yes</td>\n",
       "      <td>Childcare/parenting</td>\n",
       "      <td>3</td>\n",
       "      <td>Yes</td>\n",
       "      <td>Yes</td>\n",
       "      <td>Yes</td>\n",
       "      <td>NaN</td>\n",
       "    </tr>\n",
       "    <tr>\n",
       "      <th>394</th>\n",
       "      <td>1575559800695685120</td>\n",
       "      <td>Yes</td>\n",
       "      <td>US midterm elections,Childcare/parenting</td>\n",
       "      <td>Yes</td>\n",
       "      <td>Childcare/parenting</td>\n",
       "      <td>3</td>\n",
       "      <td>Yes</td>\n",
       "      <td>Yes</td>\n",
       "      <td>Yes</td>\n",
       "      <td>NaN</td>\n",
       "    </tr>\n",
       "  </tbody>\n",
       "</table>\n",
       "</div>"
      ],
      "text/plain": [
       "                     cid Coder2_on_topic  \\\n",
       "269               xvlf6r             Yes   \n",
       "289  1584363437349797889             Yes   \n",
       "299  1575543463218933765             Yes   \n",
       "394  1575559800695685120             Yes   \n",
       "\n",
       "                                 Coder2_topic Coder1_on_topic  \\\n",
       "269    Russia/Ukraine war,Childcare/parenting             Yes   \n",
       "289  US midterm elections,Childcare/parenting             Yes   \n",
       "299  US midterm elections,Childcare/parenting             Yes   \n",
       "394  US midterm elections,Childcare/parenting             Yes   \n",
       "\n",
       "            Coder1_topic  round Coder1_english Coder2_english final_on_topic  \\\n",
       "269   Russia/Ukraine war      3            Yes            Yes            Yes   \n",
       "289  Childcare/parenting      3            Yes            Yes            Yes   \n",
       "299  Childcare/parenting      3            Yes            Yes            Yes   \n",
       "394  Childcare/parenting      3            Yes            Yes            Yes   \n",
       "\n",
       "    final_topic  \n",
       "269         NaN  \n",
       "289         NaN  \n",
       "299         NaN  \n",
       "394         NaN  "
      ]
     },
     "execution_count": 24,
     "metadata": {},
     "output_type": "execute_result"
    }
   ],
   "source": [
    "dis_topic"
   ]
  },
  {
   "cell_type": "code",
   "execution_count": 25,
   "id": "8639c23c-e346-45b1-b4be-6622763a29bb",
   "metadata": {
    "tags": []
   },
   "outputs": [],
   "source": [
    "# overwrite final disagreements based on additional coding\n",
    "df.loc[316, 'final_topic'] = 'Russia/Ukraine war'\n",
    "df.loc[287, 'final_topic'] = 'Childcare/parenting'\n",
    "df.loc[309, 'final_topic'] = 'Childcare/parenting'\n",
    "df.loc[335, 'final_topic'] = 'Childcare/parenting'"
   ]
  },
  {
   "cell_type": "code",
   "execution_count": 26,
   "id": "673b6d68-fbe7-4177-9797-e622039cb855",
   "metadata": {
    "tags": []
   },
   "outputs": [
    {
     "name": "stdout",
     "output_type": "stream",
     "text": [
      "4 conversations have outstanding dissagreements as _what_ topic they are on\n"
     ]
    }
   ],
   "source": [
    "# outstanding topic disagreements\n",
    "dis_topic = df[(df['final_on_topic']=='Yes') & (df['final_topic'].isna())]\n",
    "print(f'{len(dis_topic)} conversations have outstanding dissagreements as _what_ topic they are on')"
   ]
  },
  {
   "cell_type": "markdown",
   "id": "2f43200a-b0b9-4bf3-a480-2d687951e6e4",
   "metadata": {},
   "source": [
    "# Write final codes to file"
   ]
  },
  {
   "cell_type": "code",
   "execution_count": 27,
   "id": "9c7fe43c-84d1-4ae1-bc6e-18fd49f8d08c",
   "metadata": {
    "tags": []
   },
   "outputs": [],
   "source": [
    "df = df.rename(columns={'cid':'conversation_id'})\n",
    "df = df[['conversation_id', 'final_on_topic', 'final_topic']]\n",
    "\n",
    "df.to_csv(f'{outpath}/handcoded.txt', sep='\\t', index=False)"
   ]
  },
  {
   "cell_type": "code",
   "execution_count": 28,
   "id": "a2897393-0c8c-4f33-affc-96581b47d27f",
   "metadata": {
    "tags": []
   },
   "outputs": [
    {
     "data": {
      "text/html": [
       "<div>\n",
       "<style scoped>\n",
       "    .dataframe tbody tr th:only-of-type {\n",
       "        vertical-align: middle;\n",
       "    }\n",
       "\n",
       "    .dataframe tbody tr th {\n",
       "        vertical-align: top;\n",
       "    }\n",
       "\n",
       "    .dataframe thead th {\n",
       "        text-align: right;\n",
       "    }\n",
       "</style>\n",
       "<table border=\"1\" class=\"dataframe\">\n",
       "  <thead>\n",
       "    <tr style=\"text-align: right;\">\n",
       "      <th></th>\n",
       "      <th>conversation_id</th>\n",
       "      <th>final_on_topic</th>\n",
       "      <th>final_topic</th>\n",
       "    </tr>\n",
       "  </thead>\n",
       "  <tbody>\n",
       "    <tr>\n",
       "      <th>0</th>\n",
       "      <td>xstvvm</td>\n",
       "      <td>Yes</td>\n",
       "      <td>Russia/Ukraine war</td>\n",
       "    </tr>\n",
       "    <tr>\n",
       "      <th>1</th>\n",
       "      <td>zz99ha</td>\n",
       "      <td>No</td>\n",
       "      <td>Not sure</td>\n",
       "    </tr>\n",
       "    <tr>\n",
       "      <th>2</th>\n",
       "      <td>y36718</td>\n",
       "      <td>No</td>\n",
       "      <td>NaN</td>\n",
       "    </tr>\n",
       "    <tr>\n",
       "      <th>3</th>\n",
       "      <td>zt6v8o</td>\n",
       "      <td>No</td>\n",
       "      <td>NaN</td>\n",
       "    </tr>\n",
       "    <tr>\n",
       "      <th>4</th>\n",
       "      <td>yhwnok</td>\n",
       "      <td>Not sure</td>\n",
       "      <td>NaN</td>\n",
       "    </tr>\n",
       "  </tbody>\n",
       "</table>\n",
       "</div>"
      ],
      "text/plain": [
       "  conversation_id final_on_topic         final_topic\n",
       "0          xstvvm            Yes  Russia/Ukraine war\n",
       "1          zz99ha             No            Not sure\n",
       "2          y36718             No                 NaN\n",
       "3          zt6v8o             No                 NaN\n",
       "4          yhwnok       Not sure                 NaN"
      ]
     },
     "execution_count": 28,
     "metadata": {},
     "output_type": "execute_result"
    }
   ],
   "source": [
    "df.head()"
   ]
  },
  {
   "cell_type": "code",
   "execution_count": 88,
   "id": "2b9affc1-c4da-426c-ba50-7e7f70ee13b6",
   "metadata": {
    "tags": []
   },
   "outputs": [],
   "source": []
  }
 ],
 "metadata": {
  "kernelspec": {
   "display_name": "Python 3 (ipykernel)",
   "language": "python",
   "name": "python3"
  },
  "language_info": {
   "codemirror_mode": {
    "name": "ipython",
    "version": 3
   },
   "file_extension": ".py",
   "mimetype": "text/x-python",
   "name": "python",
   "nbconvert_exporter": "python",
   "pygments_lexer": "ipython3",
   "version": "3.11.1"
  }
 },
 "nbformat": 4,
 "nbformat_minor": 5
}
