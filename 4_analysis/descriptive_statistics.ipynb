{
 "cells": [
  {
   "cell_type": "code",
   "execution_count": 1,
   "id": "3dc1fc67-e54d-436f-9e9d-0a30ff4dae76",
   "metadata": {
    "tags": []
   },
   "outputs": [],
   "source": [
    "import numpy as np\n",
    "import pandas as pd\n",
    "import json\n",
    "import gzip\n",
    "import glob\n",
    "import os\n",
    "import pandas as pd\n",
    "import stat_utils as su"
   ]
  },
  {
   "cell_type": "code",
   "execution_count": 2,
   "id": "dabd5e73-77c9-4d74-8331-99f404d76ce2",
   "metadata": {
    "tags": []
   },
   "outputs": [],
   "source": [
    "# data \n",
    "path = '../../data'\n",
    "twitter_path= f'{path}/Twitter'\n",
    "reddit_path= f'{path}/Reddit'\n",
    "\n",
    "topics = ['midterms', 'russia', 'childcare']"
   ]
  },
  {
   "cell_type": "markdown",
   "id": "42e3e285-6238-446a-aa7d-7b79458177d0",
   "metadata": {},
   "source": [
    "# Data for table A3: Initital data collection and conversation retrieval\n",
    "\n",
    "Note that this notebook only goes through the Reddit numbers as the Twitter numbers in this table can be found in `code/data_cleaning/twitter_sample_convos.ipynb'"
   ]
  },
  {
   "cell_type": "markdown",
   "id": "5605b108-e7af-4f10-a12e-943f70c9d5ce",
   "metadata": {},
   "source": [
    "# Reddit"
   ]
  },
  {
   "cell_type": "markdown",
   "id": "bfbc9522-ac6f-480b-8b24-87831e3f856e",
   "metadata": {},
   "source": [
    "### Reddit seed comments"
   ]
  },
  {
   "cell_type": "code",
   "execution_count": 3,
   "id": "9a7aa252-58db-4183-b635-eb435bcbffa3",
   "metadata": {
    "tags": []
   },
   "outputs": [
    {
     "name": "stdout",
     "output_type": "stream",
     "text": [
      "Estimated topics is seed posts:\n",
      "  midterms: 239275\n",
      "  russia: 199917\n",
      "  childcare: 284146\n",
      "723338 seed Reddit comments\n"
     ]
    }
   ],
   "source": [
    "# load conversation\n",
    "df = pd.read_csv(f'{reddit_path}/seed_comments.txt',sep='\\t', index_col=0)\n",
    "\n",
    "# load topic based on keyword\n",
    "term_to_topic = su.load_keywords(verbose=False)\n",
    "\n",
    "# add topic column\n",
    "df['topic'] = df['keyword'].apply(lambda x: term_to_topic[x])\n",
    "\n",
    "r_total = 0\n",
    "\n",
    "print('Estimated topics is seed posts:')\n",
    "for topic in topics:\n",
    "    count = list(df['topic']).count(topic)\n",
    "    r_total += count\n",
    "    print(f'  {topic}: {count}')\n",
    "\n",
    "print(f'{r_total} seed Reddit comments')"
   ]
  },
  {
   "cell_type": "markdown",
   "id": "0a3a61b8-eaf2-4a63-8245-a97c50f3f6c1",
   "metadata": {},
   "source": [
    "## Reddit Searched"
   ]
  },
  {
   "cell_type": "code",
   "execution_count": 5,
   "id": "d8640d80-86cd-4152-b7f4-6ecb61408e59",
   "metadata": {
    "tags": []
   },
   "outputs": [
    {
     "name": "stdout",
     "output_type": "stream",
     "text": [
      "23510 Reddit conversations searched but not retrieved\n"
     ]
    }
   ],
   "source": [
    "# not retrieved\n",
    "unretriviable_file = f'{reddit_path}/unretrievable_threads.txt'\n",
    "\n",
    "unfound = pd.read_csv(unretriviable_file, sep='\\t', names=['thread_id'])\n",
    "\n",
    "# 23510\n",
    "print(f'{len(unfound)} Reddit conversations searched but not retrieved')"
   ]
  },
  {
   "cell_type": "code",
   "execution_count": 6,
   "id": "1d7ef018-7375-4dbc-9063-8e08fa408ad0",
   "metadata": {
    "tags": []
   },
   "outputs": [
    {
     "name": "stdout",
     "output_type": "stream",
     "text": [
      "118309 reddit conversations retrieved\n"
     ]
    }
   ],
   "source": [
    "# retrieved\n",
    "reddit_convo_path = f'{reddit_path}/conversation_tables'\n",
    "\n",
    "found = set()\n",
    "\n",
    "for filename in glob.glob(f'{reddit_convo_path}/*'):\n",
    "    cid = filename.split('/')[-1].split('.')[0]\n",
    "    found.add(cid)\n",
    "\n",
    "# 118309\n",
    "print(f'{len(found)} reddit conversations retrieved')"
   ]
  },
  {
   "cell_type": "code",
   "execution_count": 7,
   "id": "a998fa1a-82d9-4b46-9e6f-97c1479ef247",
   "metadata": {
    "tags": []
   },
   "outputs": [
    {
     "name": "stdout",
     "output_type": "stream",
     "text": [
      "137274 reddit conversations searched\n"
     ]
    }
   ],
   "source": [
    "r_searched = found.union(set(unfound['thread_id']))\n",
    "\n",
    "# 137274\n",
    "print(f'{len(r_searched)} reddit conversations searched')"
   ]
  },
  {
   "cell_type": "code",
   "execution_count": 8,
   "id": "ba5ea4b1-a596-4516-9081-f7abb3a116f2",
   "metadata": {
    "tags": []
   },
   "outputs": [
    {
     "name": "stdout",
     "output_type": "stream",
     "text": [
      "Reddit conversations searched\n",
      "   midterms: 47661 (19.92% of seeds)\n",
      "   russia: 18243 (9.13% of seeds)\n",
      "   childcare: 71369 (25.12% of seeds)\n",
      "137274 total converations searched\n",
      "39.25% of seed Reddit conversations searched\n"
     ]
    }
   ],
   "source": [
    "# subset full df to those convos searched\n",
    "sub = df[df['thread_id'].isin(r_searched)]\n",
    "sub = sub.drop_duplicates(subset='thread_id')\n",
    "\n",
    "print('Reddit conversations searched')\n",
    "for topic in topics:\n",
    "    search_count = list(sub['topic']).count(topic)\n",
    "    seed_count =  list(df['topic']).count(topic)\n",
    "    \n",
    "    print(f'   {topic}: {search_count} ({search_count/seed_count:.2%} of seeds)')\n",
    "          \n",
    "print(f'{len(r_searched)} total converations searched')\n",
    "print(f'{len(r_searched)/len(set(df.thread_id)):.2%} of seed Reddit conversations searched')"
   ]
  },
  {
   "cell_type": "markdown",
   "id": "036da24c-246f-4f88-9411-d8fb764f19a2",
   "metadata": {},
   "source": [
    "## Reddit Retrieved"
   ]
  },
  {
   "cell_type": "code",
   "execution_count": 9,
   "id": "27861a00-d578-483d-a59c-375f18b0aaed",
   "metadata": {
    "tags": []
   },
   "outputs": [
    {
     "name": "stdout",
     "output_type": "stream",
     "text": [
      "Reddit conversations retrieved\n",
      "   midterms: 38054 (79.84% of searched)\n",
      "   russia: 14143 (77.53% of searched)\n",
      "   childcare: 66111 (92.63% of searched)\n",
      "118309 total Reddit converations retrieved\n",
      "86.18% of searched Reddit conversations retrieved\n"
     ]
    }
   ],
   "source": [
    "# subset full df to those convos retrieved\n",
    "sub2 = df[df['thread_id'].isin(found)]\n",
    "sub2 = sub2.drop_duplicates(subset='thread_id')\n",
    "\n",
    "r_found = len(found)\n",
    "\n",
    "print('Reddit conversations retrieved')\n",
    "for topic in topics:\n",
    "    search_count = list(sub['topic']).count(topic)\n",
    "    found_count = list(sub2['topic']).count(topic)\n",
    "    \n",
    "    print(f'   {topic}: {found_count} ({found_count/search_count:.2%} of searched)')\n",
    "\n",
    "          \n",
    "print(f'{r_found} total Reddit converations retrieved')\n",
    "print(f'{r_found/len(r_searched):.2%} of searched Reddit conversations retrieved')"
   ]
  },
  {
   "cell_type": "markdown",
   "id": "02cc2745-b5f0-464a-99d5-103bf959eb20",
   "metadata": {},
   "source": [
    "# Twitter"
   ]
  },
  {
   "cell_type": "markdown",
   "id": "e525d8d1-1ce3-431b-b09b-878d70ffed78",
   "metadata": {
    "tags": []
   },
   "source": [
    "### Twitter seed posts"
   ]
  },
  {
   "cell_type": "code",
   "execution_count": 10,
   "id": "0a14d44f-a81a-47b1-a9ab-308620de8036",
   "metadata": {
    "tags": []
   },
   "outputs": [
    {
     "name": "stdout",
     "output_type": "stream",
     "text": [
      "Estimated topics is seed posts:\n",
      "  midterms: 5778350\n",
      "  russia: 13868950\n",
      "  childcare: 796982\n",
      "19364162 seed Twitter comments\n"
     ]
    }
   ],
   "source": [
    "seed_path = f'{twitter_path}/seed_comments'\n",
    "\n",
    "counts = dict()\n",
    "counts.setdefault('total', 0)\n",
    "\n",
    "for filename in glob.glob(f'{seed_path}/*'):\n",
    "    df = pd.read_csv(filename, sep='\\t')\n",
    "    counts['total'] += len(df)\n",
    "    \n",
    "    for topic in topics:\n",
    "        counts.setdefault(topic, 0)\n",
    "        count = len(df[df['topic'].str.contains(topic)])\n",
    "        counts[topic] += count\n",
    "\n",
    "print('Estimated topics is seed posts:')\n",
    "\n",
    "for topic in topics:\n",
    "    print(f'  {topic}: {counts[topic]}')\n",
    "    \n",
    "print(f'{counts[\"total\"]} seed Twitter comments')"
   ]
  },
  {
   "cell_type": "code",
   "execution_count": 12,
   "id": "fe752669-ccf0-452f-8061-4058f3e0e8b3",
   "metadata": {
    "tags": []
   },
   "outputs": [
    {
     "name": "stdout",
     "output_type": "stream",
     "text": [
      "Total seed posts across platforms\n",
      "20087500\n"
     ]
    }
   ],
   "source": [
    "print('Total seed posts across platforms')\n",
    "print(r_total + counts['total'])"
   ]
  },
  {
   "cell_type": "code",
   "execution_count": 13,
   "id": "560c04fd-9bec-43e0-a1e0-af89bc1ba388",
   "metadata": {
    "tags": []
   },
   "outputs": [],
   "source": [
    "# topic associated with seed convo based on keywords\n",
    "# dict of {topic : [convo_ids]}\n",
    "\n",
    "topic_convos_file =  f'{twitter_path}/twitter_seed_topic_convo.json'\n",
    "\n",
    "with open(topic_convos_file, 'r') as fp:\n",
    "    topic_convos = json.loads(fp.read())"
   ]
  },
  {
   "cell_type": "markdown",
   "id": "5e023a02-b420-4884-b62a-9027be6e0a2a",
   "metadata": {},
   "source": [
    "## Twitter searched"
   ]
  },
  {
   "cell_type": "code",
   "execution_count": 14,
   "id": "3666e11b-3888-44f4-ac19-d28dbe4b1796",
   "metadata": {
    "tags": []
   },
   "outputs": [
    {
     "name": "stdout",
     "output_type": "stream",
     "text": [
      "1362875 Twitter conversations searched but no conversation resulted\n"
     ]
    }
   ],
   "source": [
    "# Searched but no convo\n",
    "no_convo_file = f'{twitter_path}/no_convos.txt'\n",
    "\n",
    "no_convo = pd.read_csv(no_convo_file, sep='\\t', names=['thread_id'], dtype='str')\n",
    "no_convo = set(no_convo['thread_id'])\n",
    "\n",
    "# 1362875\n",
    "print(f'{len(no_convo)} Twitter conversations searched but no conversation resulted')"
   ]
  },
  {
   "cell_type": "code",
   "execution_count": 15,
   "id": "c4310ecb-9a23-45b6-ad8a-c3f9a596a5c3",
   "metadata": {
    "tags": []
   },
   "outputs": [],
   "source": [
    "# retrieved\n",
    "twitter_convo_path = f'{twitter_path}/conversation_tables'\n",
    "\n",
    "collected = set()\n",
    "\n",
    "for filename in glob.glob(f'{twitter_convo_path}/*'):\n",
    "    cid = filename.split('/')[-1].split('.')[0]\n",
    "    collected.add(cid)"
   ]
  },
  {
   "cell_type": "code",
   "execution_count": 16,
   "id": "15c0271f-88bf-463c-ae35-1dab1acb7253",
   "metadata": {
    "tags": []
   },
   "outputs": [
    {
     "name": "stdout",
     "output_type": "stream",
     "text": [
      "  midterms: 196894 (13.33%) conversations\n",
      "  russia: 636112 (43.07%) conversations\n",
      "  childcare: 28809 (1.95%) conversations\n",
      "861815 Twitter conversations searched\n"
     ]
    }
   ],
   "source": [
    "searched = no_convo.union(collected)\n",
    "\n",
    "total = 0\n",
    "\n",
    "for topic, cids in topic_convos.items():\n",
    "    topic_searched = searched.intersection(cids)\n",
    "    total += len(topic_searched)\n",
    "\n",
    "    print(f'  {topic}: {len(topic_searched)} ({len(topic_searched)/len(searched) :.2%}) conversations')\n",
    "\n",
    "print(f'{total} Twitter conversations searched')"
   ]
  },
  {
   "cell_type": "code",
   "execution_count": 17,
   "id": "19903baa-4fcd-4eb3-b284-9e636baaada9",
   "metadata": {
    "tags": []
   },
   "outputs": [
    {
     "name": "stdout",
     "output_type": "stream",
     "text": [
      "Total conversations searched across platforms\n",
      "999089\n"
     ]
    }
   ],
   "source": [
    "# 999089\n",
    "print('Total conversations searched across platforms')\n",
    "print(len(r_searched) + total)"
   ]
  },
  {
   "cell_type": "markdown",
   "id": "3e2f811e-98ac-45a0-8c95-108380fc2963",
   "metadata": {},
   "source": [
    "## Twitter retrieved"
   ]
  },
  {
   "cell_type": "code",
   "execution_count": 18,
   "id": "0249b77d-f260-4600-8ea7-ba096ef2df53",
   "metadata": {
    "tags": []
   },
   "outputs": [
    {
     "name": "stdout",
     "output_type": "stream",
     "text": [
      "  midterms: 23972 (21.03%) conversations\n",
      "  russia: 51720 (45.38%) conversations\n",
      "  childcare: 3086 (2.71%) conversations\n",
      "78778 Twitter conversations retrieved\n",
      "9.14% of searched Twitter conversations retrieved\n"
     ]
    }
   ],
   "source": [
    "t_found = 0\n",
    "\n",
    "for topic, cids in topic_convos.items():\n",
    "    topic_collected = collected.intersection(cids)\n",
    "    t_found += len(topic_collected)\n",
    "\n",
    "    print(f'  {topic}: {len(topic_collected)} ({len(topic_collected)/len(collected) :.2%}) conversations')\n",
    "\n",
    "print(f'{t_found} Twitter conversations retrieved')\n",
    "print(f'{t_found/total:.2%} of searched Twitter conversations retrieved')"
   ]
  },
  {
   "cell_type": "code",
   "execution_count": 19,
   "id": "d79dff19-8ad4-4bff-8089-8f78d1e6831f",
   "metadata": {
    "tags": []
   },
   "outputs": [
    {
     "name": "stdout",
     "output_type": "stream",
     "text": [
      "Total conversations retrieved across platforms\n",
      "197087\n"
     ]
    }
   ],
   "source": [
    "# 197087\n",
    "print('Total conversations retrieved across platforms')\n",
    "print(r_found + t_found)"
   ]
  },
  {
   "cell_type": "markdown",
   "id": "a3e6a5e1-7d49-43a4-b965-5f511072099e",
   "metadata": {},
   "source": [
    "# Handcoded posts"
   ]
  },
  {
   "cell_type": "code",
   "execution_count": 20,
   "id": "5c65d477-95e7-40b8-bb5d-1a24d47a5a46",
   "metadata": {
    "tags": []
   },
   "outputs": [],
   "source": [
    "labeled_corpus_file = f'{path}/labeled_corpus.txt'"
   ]
  },
  {
   "cell_type": "code",
   "execution_count": 21,
   "id": "cc711044-7702-4f4b-b25a-409bc8565bc9",
   "metadata": {
    "tags": []
   },
   "outputs": [
    {
     "name": "stdout",
     "output_type": "stream",
     "text": [
      "508695 posts coded\n"
     ]
    }
   ],
   "source": [
    "df = pd.read_csv(labeled_corpus_file, sep='\\t',\n",
    "                dtype={'pid':str, 'final_topic':str, 'clean_text':str})\n",
    "\n",
    "# 508695\n",
    "print(f'{len(df)} posts coded')"
   ]
  },
  {
   "cell_type": "markdown",
   "id": "f88c2e8a-ed0a-421f-9ca3-b492809e6f55",
   "metadata": {},
   "source": [
    "### Reddit"
   ]
  },
  {
   "cell_type": "code",
   "execution_count": 23,
   "id": "800f9296-b816-413a-a389-dab18daf2fb6",
   "metadata": {
    "tags": []
   },
   "outputs": [],
   "source": [
    "reddit_corpus_file = f'{reddit_path}/all_reddit_text.txt'"
   ]
  },
  {
   "cell_type": "code",
   "execution_count": 40,
   "id": "1a30a2fc-7b87-451e-a3e6-b119eec3f33b",
   "metadata": {
    "tags": []
   },
   "outputs": [
    {
     "name": "stdout",
     "output_type": "stream",
     "text": [
      "32786519\n"
     ]
    }
   ],
   "source": [
    "reddit = pd.read_csv(reddit_corpus_file, sep='\\t')\n",
    "print(len(reddit))"
   ]
  },
  {
   "cell_type": "code",
   "execution_count": 26,
   "id": "f5a9a9dc-7fe4-43c4-bd6e-8340f1dc97a3",
   "metadata": {
    "tags": []
   },
   "outputs": [],
   "source": [
    "reddit_coded = df[['pid', 'final_topic']].merge(reddit[['pid', 'conversation_id']], on='pid', how='inner')"
   ]
  },
  {
   "cell_type": "code",
   "execution_count": 27,
   "id": "c104bc80-f7d7-4d9f-8868-c268beda1c6e",
   "metadata": {
    "tags": []
   },
   "outputs": [
    {
     "name": "stdout",
     "output_type": "stream",
     "text": [
      "****US midterm elections (Reddit) ****\n",
      "  690 total comments\n",
      "  23 total conversations\n",
      "****Childcare/parenting (Reddit) ****\n",
      "  225 total comments\n",
      "  23 total conversations\n",
      "****Russia/Ukraine war (Reddit) ****\n",
      "  1860 total comments\n",
      "  38 total conversations\n",
      "****Off_topic (Reddit) ****\n",
      "  36953 total comments\n",
      "  293 total conversations\n"
     ]
    }
   ],
   "source": [
    "for topic in set(reddit_coded['final_topic']):\n",
    "    sub = reddit_coded[reddit_coded['final_topic']==topic]\n",
    "    \n",
    "    print(f'****{topic} (Reddit) ****')\n",
    "    print(f'  {len(sub)} total comments')\n",
    "    print(f'  {len(set(sub.conversation_id))} total conversations')"
   ]
  },
  {
   "cell_type": "markdown",
   "id": "17ddf03f-0bd5-423f-9bc0-851a7e5edc46",
   "metadata": {},
   "source": [
    "### Twitter"
   ]
  },
  {
   "cell_type": "code",
   "execution_count": 41,
   "id": "387b8280-974d-4247-bd3c-cec306bbf7e5",
   "metadata": {
    "tags": []
   },
   "outputs": [
    {
     "name": "stdout",
     "output_type": "stream",
     "text": [
      "21962965\n"
     ]
    }
   ],
   "source": [
    "twitter_corpus_file = f'{twitter_path}/all_twitter_text.txt'\n",
    "\n",
    "twitter = pd.read_csv(twitter_corpus_file, sep='\\t',\n",
    "                     dtype={'pid':str, 'conversation_id':str})\n",
    "# 21962965\n",
    "print(len(twitter))"
   ]
  },
  {
   "cell_type": "code",
   "execution_count": 29,
   "id": "9e13b804-7d8c-4c19-a132-3e6f1a46401a",
   "metadata": {
    "tags": []
   },
   "outputs": [],
   "source": [
    "twitter_coded = df[['pid', 'final_topic']].merge(twitter[['pid', 'conversation_id']], on='pid', how='inner')"
   ]
  },
  {
   "cell_type": "code",
   "execution_count": 30,
   "id": "89fc4c87-71bf-458e-a776-d75f1ea8eec7",
   "metadata": {
    "tags": []
   },
   "outputs": [
    {
     "name": "stdout",
     "output_type": "stream",
     "text": [
      "****US midterm elections (Twitter) ****\n",
      "  12506 total comments\n",
      "  20 total conversations\n",
      "****Childcare/parenting (Twitter) ****\n",
      "  3136 total comments\n",
      "  23 total conversations\n",
      "****Russia/Ukraine war (Twitter) ****\n",
      "  22189 total comments\n",
      "  15 total conversations\n",
      "****Off_topic (Twitter) ****\n",
      "  431152 total comments\n",
      "  207 total conversations\n"
     ]
    }
   ],
   "source": [
    "for topic in set(twitter_coded['final_topic']):\n",
    "    sub = twitter_coded[twitter_coded['final_topic']==topic]\n",
    "    \n",
    "    print(f'****{topic} (Twitter) ****')\n",
    "    print(f'  {len(sub)} total comments')\n",
    "    print(f'  {len(set(sub.conversation_id))} total conversations')"
   ]
  },
  {
   "cell_type": "code",
   "execution_count": null,
   "id": "00693004-5cc1-4261-aa5a-5f3cc0c2a083",
   "metadata": {},
   "outputs": [],
   "source": []
  }
 ],
 "metadata": {
  "kernelspec": {
   "display_name": "Python 3 (ipykernel)",
   "language": "python",
   "name": "python3"
  },
  "language_info": {
   "codemirror_mode": {
    "name": "ipython",
    "version": 3
   },
   "file_extension": ".py",
   "mimetype": "text/x-python",
   "name": "python",
   "nbconvert_exporter": "python",
   "pygments_lexer": "ipython3",
   "version": "3.11.1"
  }
 },
 "nbformat": 4,
 "nbformat_minor": 5
}
